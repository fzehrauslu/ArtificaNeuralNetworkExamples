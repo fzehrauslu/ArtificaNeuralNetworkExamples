{
  "nbformat": 4,
  "nbformat_minor": 0,
  "metadata": {
    "colab": {
      "name": "ANNAssignment3.ipynb",
      "provenance": [],
      "collapsed_sections": [],
      "include_colab_link": true
    },
    "kernelspec": {
      "display_name": "Python 3",
      "language": "python",
      "name": "python3"
    },
    "language_info": {
      "codemirror_mode": {
        "name": "ipython",
        "version": 3
      },
      "file_extension": ".py",
      "mimetype": "text/x-python",
      "name": "python",
      "nbconvert_exporter": "python",
      "pygments_lexer": "ipython3",
      "version": "3.6.5"
    }
  },
  "cells": [
    {
      "cell_type": "markdown",
      "metadata": {
        "id": "view-in-github",
        "colab_type": "text"
      },
      "source": [
        "<a href=\"https://colab.research.google.com/github/fzehrauslu/ArtificaNeuralNetworkExamples/blob/master/ANNAssignment3.ipynb\" target=\"_parent\"><img src=\"https://colab.research.google.com/assets/colab-badge.svg\" alt=\"Open In Colab\"/></a>"
      ]
    },
    {
      "cell_type": "code",
      "metadata": {
        "colab_type": "code",
        "id": "UV51-uTDHY2P",
        "colab": {}
      },
      "source": [
        "import pandas as pd\n",
        "import numpy as np\n",
        "import sklearn\n",
        "from sklearn.model_selection import StratifiedKFold\n",
        "from sklearn.ensemble import RandomForestClassifier\n",
        "from sklearn.model_selection import GridSearchCV\n",
        "from sklearn.cluster import KMeans\n",
        "from sklearn.model_selection import train_test_split\n",
        "import os\n",
        "import keras\n",
        "from keras.preprocessing import image\n",
        "from keras.applications.imagenet_utils import preprocess_input\n",
        "import random\n",
        "import seaborn as sb\n",
        "#from sklearn.datasets import load_breast_cancer"
      ],
      "execution_count": 0,
      "outputs": []
    },
    {
      "cell_type": "markdown",
      "metadata": {
        "colab_type": "text",
        "id": "q6DWt4pCGpP8"
      },
      "source": [
        "Q. (10 p) Load Fashion mnist dataset"
      ]
    },
    {
      "cell_type": "code",
      "metadata": {
        "colab_type": "code",
        "id": "DjqH08L85qOT",
        "colab": {}
      },
      "source": [
        "from keras.datasets import fashion_mnist\n",
        "((trainX, trainY), (testX, testY)) = fashion_mnist.load_data()\n",
        "trainX=np.reshape(trainX,(-1,28*28))\n",
        "testX=np.reshape(testX,(-1,28*28))"
      ],
      "execution_count": 0,
      "outputs": []
    },
    {
      "cell_type": "markdown",
      "metadata": {
        "colab_type": "text",
        "id": "cW8H1KbTGxe5"
      },
      "source": [
        "Q. (10 p) Train a random forest with 10 decision trees (5 p) Assign 3 for the maximum depth of each tree.(5 p) Calculate  precision, recall, f1 score and (5 p) accuracy for both training and test datasets."
      ]
    },
    {
      "cell_type": "code",
      "metadata": {
        "colab_type": "code",
        "id": "Zt8J0NsxH8jR",
        "outputId": "54bc903e-5602-49b0-e504-8012ef4889a3",
        "colab": {
          "base_uri": "https://localhost:8080/",
          "height": 629
        }
      },
      "source": [
        "#  Using Random Forest without hyper parameter tuning and clustering \n",
        "rf = RandomForestClassifier(n_estimators=10,max_depth=3)\n",
        "\n",
        "rf.fit(trainX, trainY)\n",
        "# Predictions on training dataset\n",
        "y_pred_train = rf.predict(trainX)\n",
        "# predictions for test dataset\n",
        "y_pred_test = rf.predict(testX)\n",
        "# Performance  metrics for training dataset\n",
        "print(\"Training metrics:\")\n",
        "print(sklearn.metrics.classification_report(y_true= trainY, y_pred= y_pred_train))\n",
        "    \n",
        "# Performance  metrics for test dataset\n",
        "print(\"Test data metrics:\")\n",
        "print(sklearn.metrics.classification_report(y_true= testY, y_pred= y_pred_test))\n",
        "\n"
      ],
      "execution_count": 6,
      "outputs": [
        {
          "output_type": "stream",
          "text": [
            "Training metrics:\n",
            "              precision    recall  f1-score   support\n",
            "\n",
            "           0       0.72      0.76      0.74      6000\n",
            "           1       0.95      0.85      0.90      6000\n",
            "           2       0.36      0.92      0.52      6000\n",
            "           3       0.63      0.81      0.71      6000\n",
            "           4       0.54      0.08      0.13      6000\n",
            "           5       0.90      0.66      0.76      6000\n",
            "           6       0.30      0.00      0.00      6000\n",
            "           7       0.70      0.86      0.77      6000\n",
            "           8       0.86      0.83      0.85      6000\n",
            "           9       0.79      0.91      0.85      6000\n",
            "\n",
            "    accuracy                           0.67     60000\n",
            "   macro avg       0.68      0.67      0.62     60000\n",
            "weighted avg       0.68      0.67      0.62     60000\n",
            "\n",
            "Test data metrics:\n",
            "              precision    recall  f1-score   support\n",
            "\n",
            "           0       0.71      0.74      0.72      1000\n",
            "           1       0.96      0.83      0.89      1000\n",
            "           2       0.36      0.92      0.51      1000\n",
            "           3       0.61      0.77      0.68      1000\n",
            "           4       0.49      0.07      0.12      1000\n",
            "           5       0.91      0.66      0.77      1000\n",
            "           6       0.20      0.00      0.00      1000\n",
            "           7       0.71      0.85      0.78      1000\n",
            "           8       0.85      0.83      0.84      1000\n",
            "           9       0.77      0.92      0.84      1000\n",
            "\n",
            "    accuracy                           0.66     10000\n",
            "   macro avg       0.65      0.66      0.61     10000\n",
            "weighted avg       0.65      0.66      0.61     10000\n",
            "\n"
          ],
          "name": "stdout"
        }
      ]
    },
    {
      "cell_type": "code",
      "metadata": {
        "id": "pbBCwLvAOMWu",
        "colab_type": "code",
        "colab": {
          "base_uri": "https://localhost:8080/",
          "height": 34
        },
        "outputId": "b6bc22d9-51c6-4654-c6f5-600370bc1f96"
      },
      "source": [
        "sklearn.metrics.accuracy_score(trainY,  y_pred_train)"
      ],
      "execution_count": 7,
      "outputs": [
        {
          "output_type": "execute_result",
          "data": {
            "text/plain": [
              "0.6681"
            ]
          },
          "metadata": {
            "tags": []
          },
          "execution_count": 7
        }
      ]
    },
    {
      "cell_type": "code",
      "metadata": {
        "colab_type": "code",
        "id": "LWKx_JCL1jWt",
        "outputId": "bfe4b197-8014-4d3f-d6ad-90f8fbb1490f",
        "colab": {
          "base_uri": "https://localhost:8080/",
          "height": 34
        }
      },
      "source": [
        "sklearn.metrics.accuracy_score(testY,  y_pred_test)"
      ],
      "execution_count": 8,
      "outputs": [
        {
          "output_type": "execute_result",
          "data": {
            "text/plain": [
              "0.6587"
            ]
          },
          "metadata": {
            "tags": []
          },
          "execution_count": 8
        }
      ]
    },
    {
      "cell_type": "markdown",
      "metadata": {
        "colab_type": "text",
        "id": "nKuI7PyMKbh8"
      },
      "source": [
        "Q. (20 p) Plot a feature importance diagram for the trained model, which shows importance of each feature in the classification task. "
      ]
    },
    {
      "cell_type": "code",
      "metadata": {
        "colab_type": "code",
        "id": "8mcX_T3-KcfR",
        "colab": {}
      },
      "source": [
        "importances = rf.feature_importances_"
      ],
      "execution_count": 0,
      "outputs": []
    },
    {
      "cell_type": "code",
      "metadata": {
        "colab_type": "code",
        "id": "wmayO7UUK5sv",
        "outputId": "0e8ede91-d167-4aeb-b105-04263c0681ed",
        "colab": {
          "base_uri": "https://localhost:8080/",
          "height": 1000
        }
      },
      "source": [
        "import matplotlib.pyplot as plt\n",
        "std = np.std([rf.feature_importances_ for tree in rf.estimators_],\n",
        "             axis=0)\n",
        "indices = np.argsort(importances)[::-1]\n",
        "\n",
        "# Print the feature ranking\n",
        "print(\"Feature ranking:\")\n",
        "\n",
        "for f in range(trainX.shape[1]):\n",
        "    if importances[indices[f]]>0:\n",
        "      print(\"%d. feature %d (%f)\" % (f + 1, indices[f], importances[indices[f]]))\n",
        "\n",
        "# Plot the impurity-based feature importances of the forest\n",
        "plt.figure()\n",
        "plt.title(\"Feature importances\")\n",
        "plt.bar(range(trainX.shape[1]), importances[indices],\n",
        "        color=\"r\", yerr=std[indices], align=\"center\")\n",
        "plt.xticks(range(trainX.shape[1]), indices)\n",
        "plt.xlim([-1, trainX.shape[1]])\n",
        "plt.show()\n"
      ],
      "execution_count": 10,
      "outputs": [
        {
          "output_type": "stream",
          "text": [
            "Feature ranking:\n",
            "1. feature 462 (0.074086)\n",
            "2. feature 150 (0.059438)\n",
            "3. feature 207 (0.056902)\n",
            "4. feature 406 (0.041800)\n",
            "5. feature 610 (0.034940)\n",
            "6. feature 600 (0.032042)\n",
            "7. feature 235 (0.029347)\n",
            "8. feature 179 (0.029126)\n",
            "9. feature 546 (0.028031)\n",
            "10. feature 68 (0.027751)\n",
            "11. feature 262 (0.027527)\n",
            "12. feature 123 (0.027455)\n",
            "13. feature 149 (0.027292)\n",
            "14. feature 246 (0.026762)\n",
            "15. feature 602 (0.024436)\n",
            "16. feature 518 (0.023861)\n",
            "17. feature 397 (0.019020)\n",
            "18. feature 441 (0.018005)\n",
            "19. feature 510 (0.017253)\n",
            "20. feature 442 (0.017202)\n",
            "21. feature 342 (0.016766)\n",
            "22. feature 369 (0.016241)\n",
            "23. feature 201 (0.015640)\n",
            "24. feature 413 (0.015003)\n",
            "25. feature 205 (0.014106)\n",
            "26. feature 628 (0.014002)\n",
            "27. feature 144 (0.013754)\n",
            "28. feature 213 (0.013729)\n",
            "29. feature 202 (0.013471)\n",
            "30. feature 162 (0.013357)\n",
            "31. feature 581 (0.012827)\n",
            "32. feature 362 (0.012378)\n",
            "33. feature 184 (0.012100)\n",
            "34. feature 399 (0.011849)\n",
            "35. feature 103 (0.011622)\n",
            "36. feature 92 (0.011110)\n",
            "37. feature 258 (0.010837)\n",
            "38. feature 390 (0.010189)\n",
            "39. feature 389 (0.009269)\n",
            "40. feature 490 (0.009103)\n",
            "41. feature 690 (0.008940)\n",
            "42. feature 433 (0.008555)\n",
            "43. feature 435 (0.008426)\n",
            "44. feature 353 (0.008248)\n",
            "45. feature 231 (0.008189)\n",
            "46. feature 379 (0.007799)\n",
            "47. feature 422 (0.007497)\n",
            "48. feature 121 (0.006797)\n",
            "49. feature 395 (0.006135)\n",
            "50. feature 302 (0.006053)\n",
            "51. feature 303 (0.004437)\n",
            "52. feature 717 (0.004053)\n",
            "53. feature 601 (0.003768)\n",
            "54. feature 499 (0.002966)\n",
            "55. feature 358 (0.002898)\n",
            "56. feature 388 (0.002476)\n",
            "57. feature 640 (0.001210)\n",
            "58. feature 220 (0.001040)\n",
            "59. feature 715 (0.000883)\n"
          ],
          "name": "stdout"
        },
        {
          "output_type": "display_data",
          "data": {
            "image/png": "[encoded data removed]",
            "text/plain": [
              "<Figure size 432x288 with 1 Axes>"
            ]
          },
          "metadata": {
            "tags": [],
            "needs_background": "light"
          }
        }
      ]
    },
    {
      "cell_type": "markdown",
      "metadata": {
        "colab_type": "text",
        "id": "oBFNkMRVHa-x"
      },
      "source": [
        "Q.(10 p) Use grid search method to find the optimum parameters for random forest (GridSearchCV in python) for the classification task. Search (5 p) the optimum number of decision trees in the range of [10,50], (5 p) that of minimum number of examples at each leaf in the range of [2,3], and (5 p) that of maximum depth in the range of [3,10]. (5 p) Calculate  precision, recall, f1 score and (5 p) accuracy for both training and test datasets.  "
      ]
    },
    {
      "cell_type": "code",
      "metadata": {
        "colab_type": "code",
        "id": "Fe_4oQSuLRGi",
        "outputId": "1f081edd-f021-4e46-cec7-8a1430d27978",
        "colab": {
          "base_uri": "https://localhost:8080/",
          "height": 629
        }
      },
      "source": [
        "clf = GridSearchCV(rf, param_grid={'n_estimators':[10,50],'min_samples_leaf':[2,3],'max_depth':[3,10]})\n",
        "model = clf.fit(trainX, trainY)\n",
        "\n",
        "\n",
        "y_pred_train = model.predict(trainX)\n",
        "    # predictions for validation\n",
        "y_pred_test = model.predict(testX)\n",
        "    # training metrics\n",
        "print(\"Training metrics:\")\n",
        "print(sklearn.metrics.classification_report(y_true= trainY, y_pred= y_pred_train))\n",
        "    \n",
        "\n",
        "# Predictions on testset\n",
        "y_pred_test = model.predict(testX)\n",
        "    # test data metrics\n",
        "print(\"Test data metrics:\")\n",
        "print(sklearn.metrics.classification_report(y_true= testY, y_pred= y_pred_test))"
      ],
      "execution_count": 11,
      "outputs": [
        {
          "output_type": "stream",
          "text": [
            "Training metrics:\n",
            "              precision    recall  f1-score   support\n",
            "\n",
            "           0       0.83      0.89      0.86      6000\n",
            "           1       1.00      0.96      0.98      6000\n",
            "           2       0.77      0.76      0.77      6000\n",
            "           3       0.86      0.93      0.89      6000\n",
            "           4       0.72      0.85      0.78      6000\n",
            "           5       0.99      0.95      0.97      6000\n",
            "           6       0.81      0.58      0.67      6000\n",
            "           7       0.92      0.94      0.93      6000\n",
            "           8       0.97      0.98      0.98      6000\n",
            "           9       0.94      0.95      0.94      6000\n",
            "\n",
            "    accuracy                           0.88     60000\n",
            "   macro avg       0.88      0.88      0.88     60000\n",
            "weighted avg       0.88      0.88      0.88     60000\n",
            "\n",
            "Test data metrics:\n",
            "              precision    recall  f1-score   support\n",
            "\n",
            "           0       0.80      0.83      0.81      1000\n",
            "           1       0.99      0.94      0.96      1000\n",
            "           2       0.70      0.72      0.71      1000\n",
            "           3       0.83      0.89      0.86      1000\n",
            "           4       0.67      0.80      0.73      1000\n",
            "           5       0.98      0.94      0.96      1000\n",
            "           6       0.71      0.49      0.58      1000\n",
            "           7       0.90      0.93      0.91      1000\n",
            "           8       0.95      0.96      0.96      1000\n",
            "           9       0.92      0.94      0.93      1000\n",
            "\n",
            "    accuracy                           0.84     10000\n",
            "   macro avg       0.84      0.84      0.84     10000\n",
            "weighted avg       0.84      0.84      0.84     10000\n",
            "\n"
          ],
          "name": "stdout"
        }
      ]
    },
    {
      "cell_type": "code",
      "metadata": {
        "colab_type": "code",
        "id": "ufYoS9XFFc7d",
        "outputId": "2641fa8a-7049-4eaa-dc56-74c8032023d4",
        "colab": {
          "base_uri": "https://localhost:8080/",
          "height": 34
        }
      },
      "source": [
        "sklearn.metrics.accuracy_score(trainY,  y_pred_train)"
      ],
      "execution_count": 12,
      "outputs": [
        {
          "output_type": "execute_result",
          "data": {
            "text/plain": [
              "0.8787333333333334"
            ]
          },
          "metadata": {
            "tags": []
          },
          "execution_count": 12
        }
      ]
    },
    {
      "cell_type": "code",
      "metadata": {
        "id": "8Xe6AqBkN_zF",
        "colab_type": "code",
        "colab": {
          "base_uri": "https://localhost:8080/",
          "height": 34
        },
        "outputId": "01bc085e-07b2-40f0-9761-9243f0fc5cce"
      },
      "source": [
        "sklearn.metrics.accuracy_score(testY,  y_pred_test)"
      ],
      "execution_count": 13,
      "outputs": [
        {
          "output_type": "execute_result",
          "data": {
            "text/plain": [
              "0.8441"
            ]
          },
          "metadata": {
            "tags": []
          },
          "execution_count": 13
        }
      ]
    },
    {
      "cell_type": "markdown",
      "metadata": {
        "colab_type": "text",
        "id": "GTamEvd4IToL"
      },
      "source": [
        "Q.(10 p)Print the optimum parameters of random forest, obtained by the grid search method for the classification problem. "
      ]
    },
    {
      "cell_type": "code",
      "metadata": {
        "colab_type": "code",
        "id": "agmkmq4jGUxl",
        "outputId": "51b56d6e-52e7-4280-8b52-4be7f1a69336",
        "colab": {
          "base_uri": "https://localhost:8080/",
          "height": 34
        }
      },
      "source": [
        "model.best_params_"
      ],
      "execution_count": 14,
      "outputs": [
        {
          "output_type": "execute_result",
          "data": {
            "text/plain": [
              "{'max_depth': 10, 'min_samples_leaf': 3, 'n_estimators': 50}"
            ]
          },
          "metadata": {
            "tags": []
          },
          "execution_count": 14
        }
      ]
    }
  ]
}