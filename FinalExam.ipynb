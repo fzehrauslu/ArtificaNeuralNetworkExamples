{
  "nbformat": 4,
  "nbformat_minor": 0,
  "metadata": {
    "colab": {
      "name": "FinalExam.ipynb",
      "provenance": [],
      "private_outputs": true,
      "collapsed_sections": [],
      "mount_file_id": "1uls2mYZ9tHkfTXeSw8GUAbow4dpfOIAf",
      "authorship_tag": "ABX9TyMZlJ6g1SzUgNc9htnzVAtZ",
      "include_colab_link": true
    },
    "kernelspec": {
      "name": "python3",
      "display_name": "Python 3"
    },
    "accelerator": "GPU"
  },
  "cells": [
    {
      "cell_type": "markdown",
      "metadata": {
        "id": "view-in-github",
        "colab_type": "text"
      },
      "source": [
        "<a href=\"https://colab.research.google.com/github/fzehrauslu/ArtificaNeuralNetworkExamples/blob/master/FinalExam.ipynb\" target=\"_parent\"><img src=\"https://colab.research.google.com/assets/colab-badge.svg\" alt=\"Open In Colab\"/></a>"
      ]
    },
    {
      "cell_type": "code",
      "metadata": {
        "id": "zzeIIhrgMdBx",
        "colab_type": "code",
        "colab": {}
      },
      "source": [
        "from google.colab import drive\n",
        "drive.mount('/content/drive')"
      ],
      "execution_count": null,
      "outputs": []
    },
    {
      "cell_type": "code",
      "metadata": {
        "id": "1DlEJM7POaaV",
        "colab_type": "code",
        "colab": {}
      },
      "source": [
        "FolderName=\"/content/drive/My Drive/Colab Notebooks/HandGestures/acquisitions/S1/G1\""
      ],
      "execution_count": null,
      "outputs": []
    },
    {
      "cell_type": "code",
      "metadata": {
        "id": "G2DGZ217Qmal",
        "colab_type": "code",
        "colab": {}
      },
      "source": [
        "import tensorflow as tf\n",
        "from tensorflow.keras.applications import Xception\n",
        "from tensorflow.keras.preprocessing import image\n",
        "from tensorflow.keras.models import Model\n",
        "from tensorflow.keras.layers import Dense, GlobalAveragePooling2D,Dropout\n",
        "from tensorflow.keras.utils import Sequence\n",
        "import pdb"
      ],
      "execution_count": null,
      "outputs": []
    },
    {
      "cell_type": "markdown",
      "metadata": {
        "id": "KHmBZrdVfAFQ",
        "colab_type": "text"
      },
      "source": [
        "Prepare dataset for training"
      ]
    },
    {
      "cell_type": "code",
      "metadata": {
        "id": "iGq5ZQeQesqG",
        "colab_type": "code",
        "colab": {}
      },
      "source": [
        "import os\n",
        "\n",
        "def getPathsForAClass():\n",
        "  # ClassNumber :number\n",
        "  \n",
        "  pathS1=\"/content/drive/My Drive/Colab Notebooks/HandGestures/acquisitions/S1\"\n",
        "  pathS2=\"/content/drive/My Drive/Colab Notebooks/HandGestures/acquisitions/S2\"\n",
        "  pathS3=\"/content/drive/My Drive/Colab Notebooks/HandGestures/acquisitions/S3\"\n",
        "  pathS4=\"/content/drive/My Drive/Colab Notebooks/HandGestures/acquisitions/S4\"\n",
        "\n",
        "\n",
        "  G1={\"train\":[],\"validation\":[],\"test\":[]}\n",
        "  G1[\"train\"]={\"Image\":[],\"label\":[]}\n",
        "  G1[\"validation\"]={\"Image\":[],\"label\":[]}\n",
        "  G1[\"test\"]={\"Image\":[],\"label\":[]}\n",
        "  \n",
        "\n",
        "  for ClassNumber in [1,5]:#range(1,3): # 12\n",
        "    ClassNo=\"G\"+str(ClassNumber)\n",
        "    if ClassNumber==5:\n",
        "      ClassNumber=2\n",
        "\n",
        "    for i in range(1,26):\n",
        "      G1[\"train\"][\"Image\"].append([os.path.join(pathS1,ClassNo,str(i)+\"-color.png\" )])\n",
        "      G1[\"train\"][\"label\"].append(ClassNumber)\n",
        "      \n",
        "      G1[\"train\"][\"Image\"].append([os.path.join(pathS2,ClassNo,str(i)+\"-color.png\" )])\n",
        "      G1[\"train\"][\"label\"].append(ClassNumber)\n",
        "      \n",
        "      G1[\"train\"][\"Image\"].append([os.path.join(pathS3,ClassNo,str(i)+\"-color.png\" )])\n",
        "      G1[\"train\"][\"label\"].append(ClassNumber)\n",
        "\n",
        "      G1[\"train\"][\"Image\"].append([os.path.join(pathS4,ClassNo,str(i)+\"-color.png\" )])\n",
        "      G1[\"train\"][\"label\"].append(ClassNumber)\n",
        "\n",
        "    for i in range(26,28):\n",
        "      G1[\"validation\"][\"Image\"].append([os.path.join(pathS1,ClassNo,str(i)+\"-color.png\" )])\n",
        "      G1[\"validation\"][\"label\"].append(ClassNumber)\n",
        "      \n",
        "      G1[\"validation\"][\"Image\"].append([os.path.join(pathS2,ClassNo,str(i)+\"-color.png\" )])\n",
        "      G1[\"validation\"][\"label\"].append(ClassNumber)\n",
        "      \n",
        "      G1[\"validation\"][\"Image\"].append([os.path.join(pathS3,ClassNo,str(i)+\"-color.png\" )])\n",
        "      G1[\"validation\"][\"label\"].append(ClassNumber)\n",
        "\n",
        "      G1[\"validation\"][\"Image\"].append([os.path.join(pathS4,ClassNo,str(i)+\"-color.png\" )])\n",
        "      G1[\"validation\"][\"label\"].append(ClassNumber)\n",
        "\n",
        "\n",
        "     \n",
        "\n",
        "    for i in range(28,31):\n",
        "      G1[\"test\"][\"Image\"].append([os.path.join(pathS1,ClassNo,str(i)+\"-color.png\" )])\n",
        "      G1[\"test\"][\"label\"].append(ClassNumber)\n",
        "      \n",
        "      G1[\"test\"][\"Image\"].append([os.path.join(pathS2,ClassNo,str(i)+\"-color.png\" )])\n",
        "      G1[\"test\"][\"label\"].append(ClassNumber)\n",
        "      \n",
        "      G1[\"test\"][\"Image\"].append([os.path.join(pathS3,ClassNo,str(i)+\"-color.png\" )])\n",
        "      G1[\"test\"][\"label\"].append(ClassNumber)\n",
        "\n",
        "      G1[\"test\"][\"Image\"].append([os.path.join(pathS4,ClassNo,str(i)+\"-color.png\" )])\n",
        "      G1[\"test\"][\"label\"].append(ClassNumber)\n",
        "\n",
        "      \n",
        "\n",
        "  return G1\n",
        "\n",
        "partition=getPathsForAClass()\n",
        "\n"
      ],
      "execution_count": null,
      "outputs": []
    },
    {
      "cell_type": "markdown",
      "metadata": {
        "id": "LiwX4o9gfTFJ",
        "colab_type": "text"
      },
      "source": [
        "Write a Dataloader function (40 points)"
      ]
    },
    {
      "cell_type": "code",
      "metadata": {
        "id": "b7DUbL0cQqqN",
        "colab_type": "code",
        "colab": {}
      },
      "source": [
        "## generate dataloader \n",
        "## https://stanford.edu/~shervine/blog/keras-how-to-generate-data-on-the-fly\n",
        "\n",
        "import numpy as np\n",
        "import keras\n",
        "import imageio\n",
        "\n",
        "class DataGenerator(Sequence):\n",
        "    'Generates data for Keras'\n",
        "    def __init__(self, list_IDs, batch_size=32, dim=(32,32,32), n_channels=1,\n",
        "                 n_classes=10, shuffle=True,Training=False):\n",
        "        'Initialization'\n",
        "        self.dim = dim\n",
        "        self.batch_size = batch_size\n",
        "        #self.labels = labels\n",
        "        self.list_IDs = list_IDs\n",
        "        self.n_channels = n_channels\n",
        "        self.n_classes = n_classes\n",
        "        self.shuffle = shuffle\n",
        "        self.on_epoch_end()\n",
        "        self.Training=Training\n",
        "\n",
        "    def __len__(self):\n",
        "        'Denotes the number of batches per epoch'\n",
        "        return int(np.floor(len(self.list_IDs[\"Image\"]) / self.batch_size))\n",
        "\n",
        "    def __getitem__(self, index):\n",
        "        'Generate one batch of data'\n",
        "        # Generate indexes of the batch\n",
        "        indexes = self.indexes[index*self.batch_size:(index+1)*self.batch_size]\n",
        "\n",
        "        list_IDs_temp = [self.list_IDs[\"Image\"][k] for k in indexes]\n",
        "        listLabels=[self.list_IDs[\"label\"][k] for k in indexes]\n",
        "        \n",
        "        \n",
        "\n",
        "        # Generate data\n",
        "        X, y = self.__data_generation(list_IDs_temp,listLabels,self.Training)\n",
        "\n",
        "        return X, y\n",
        "\n",
        "    def on_epoch_end(self):\n",
        "        'Updates indexes after each epoch'\n",
        "        self.indexes = np.arange(len(self.list_IDs[\"Image\"]))\n",
        "        if self.shuffle == True:\n",
        "            np.random.shuffle(self.indexes)\n",
        "\n",
        "    def __data_generation(self, list_IDs_temp,listLabels,Training):\n",
        "        'Generates data containing batch_size samples' \n",
        "        # Initialization\n",
        "        X = np.empty((self.batch_size, *self.dim, self.n_channels))\n",
        "        y = np.empty((self.batch_size), dtype=int)\n",
        "        #print(list_IDs_temp)\n",
        "        # Generate data\n",
        "        for i, ID in enumerate(list_IDs_temp):\n",
        "\n",
        "\n",
        "            im = imageio.imread(ID[0]) # read png file , color image            \n",
        "            X[i,] = im\n",
        "\n",
        "            # Store class number\n",
        "            y[i] = listLabels[i]-1\n",
        "        return X, keras.utils.to_categorical(y, num_classes=self.n_classes)\n"
      ],
      "execution_count": null,
      "outputs": []
    },
    {
      "cell_type": "markdown",
      "metadata": {
        "id": "hRZXiP6ofeVV",
        "colab_type": "text"
      },
      "source": [
        " Set parameters for the **dataloader**"
      ]
    },
    {
      "cell_type": "code",
      "metadata": {
        "id": "iHHqpRiQR8bJ",
        "colab_type": "code",
        "colab": {}
      },
      "source": [
        "params = {'dim': (480,640), \n",
        "          'batch_size': 8,\n",
        "          'n_classes': 2, \n",
        "          'n_channels': 3, \n",
        "          'shuffle': True}"
      ],
      "execution_count": null,
      "outputs": []
    },
    {
      "cell_type": "markdown",
      "metadata": {
        "id": "y4FiZPKAg-0f",
        "colab_type": "text"
      },
      "source": [
        "Generate training, validation and test sets"
      ]
    },
    {
      "cell_type": "code",
      "metadata": {
        "id": "cXsgWv7EVNec",
        "colab_type": "code",
        "colab": {}
      },
      "source": [
        "training_generator = DataGenerator(partition['train'], **params,Training=True)\n",
        "validation_generator = DataGenerator(partition['validation'], **params,Training=False)\n",
        "test_generator = DataGenerator(partition['test'], **params,Training=False)"
      ],
      "execution_count": null,
      "outputs": []
    },
    {
      "cell_type": "code",
      "metadata": {
        "id": "_Jaxj37Zfc1I",
        "colab_type": "code",
        "colab": {}
      },
      "source": [
        ""
      ],
      "execution_count": null,
      "outputs": []
    },
    {
      "cell_type": "markdown",
      "metadata": {
        "id": "NmWDbSbxmHBQ",
        "colab_type": "text"
      },
      "source": [
        ""
      ]
    },
    {
      "cell_type": "markdown",
      "metadata": {
        "id": "nZ8Lb5D6hK9w",
        "colab_type": "text"
      },
      "source": [
        "Use Xception pretrained with Imagenet dataset as the base network and add Global Average Pooling, dropout layer, a dense layer with 100 neurons, ReLU layer, a dropout layer and another dense layer with 2 neurons (because we have 2 classes)\n",
        "and a softmax layer."
      ]
    },
    {
      "cell_type": "code",
      "metadata": {
        "id": "d0tq0gm5Pqcn",
        "colab_type": "code",
        "colab": {}
      },
      "source": [
        "i = tf.keras.layers.Input([None, None, 3], dtype = tf.uint8)\n",
        "x = tf.cast(i, tf.float32)\n",
        "x = tf.keras.applications.mobilenet.preprocess_input(x)\n",
        "\n",
        "# create the base pre-trained model\n",
        "base_model = Xception(weights='imagenet', include_top=False)\n",
        "x = base_model(x)#base_model.output\n",
        "# add a global spatial average pooling layer\n",
        "x = GlobalAveragePooling2D()(x)\n",
        "# add a dropout layer\n",
        "x= Dropout(0.2)(x)\n",
        "# let's add a fully-connected layer\n",
        "x =Dense(100, activation='relu')(x)\n",
        "# add a dropout layer\n",
        "x= Dropout(0.2)(x)\n",
        "# and a dense layer\n",
        "predictions = Dense(2, activation='softmax')(x)\n",
        "\n",
        "# this is the model we will train\n",
        "model =Model(inputs=i, outputs=predictions) # Model(inputs=base_model.input, outputs=predictions)\n",
        "\n",
        "\n",
        "\n"
      ],
      "execution_count": null,
      "outputs": []
    },
    {
      "cell_type": "markdown",
      "metadata": {
        "id": "nci9s00wgkaN",
        "colab_type": "text"
      },
      "source": [
        "Training 1: Train only newly added layers (10 points)"
      ]
    },
    {
      "cell_type": "code",
      "metadata": {
        "id": "QtQPsOazaMIn",
        "colab_type": "code",
        "colab": {}
      },
      "source": [
        "\n",
        "# set the base model as not trainable\n",
        "for layer in base_model.layers:\n",
        "    layer.trainable = False\n",
        "\n",
        "model.compile(optimizer='Adam', loss='categorical_crossentropy',metrics=['accuracy'])\n",
        "model.fit(training_generator, epochs=5, validation_data=validation_generator)  \n",
        "\n",
        "# save original model parameters because we need it later when finetuning it with various optimisation methods\n",
        "tf.keras.models.save_model(\n",
        "    model, \"/content/drive/My Drive/Colab Notebooks/HandGestures/model\", overwrite=True, include_optimizer=True, save_format=\"tf\")"
      ],
      "execution_count": null,
      "outputs": []
    },
    {
      "cell_type": "markdown",
      "metadata": {
        "id": "8rEJsgLohY2j",
        "colab_type": "text"
      },
      "source": [
        "Calculate performance metrics"
      ]
    },
    {
      "cell_type": "code",
      "metadata": {
        "id": "hdoffJi3HKQ6",
        "colab_type": "code",
        "colab": {}
      },
      "source": [
        "from sklearn.metrics import classification_report\n",
        "prediction = model.predict(test_generator)\n",
        "y_pred_bool = np.argmax(prediction, axis=1)\n",
        "\n",
        "testDataset=[]\n",
        "for i in range(len(test_generator)):\n",
        "  testDataset.append(test_generator[i][1])\n",
        "\n",
        "testDataset=np.reshape(np.array(testDataset),(-1,2))\n",
        "y_true_bool = np.argmax(testDataset, axis=1)\n",
        "print(classification_report(y_true_bool, y_pred_bool))"
      ],
      "execution_count": null,
      "outputs": []
    },
    {
      "cell_type": "markdown",
      "metadata": {
        "id": "2a0xWfKLhkfd",
        "colab_type": "text"
      },
      "source": [
        "Training 2: Finetune newly added layers and the late layers of the base model"
      ]
    },
    {
      "cell_type": "code",
      "metadata": {
        "id": "nsm-qxHmxtan",
        "colab_type": "code",
        "colab": {}
      },
      "source": [
        "# make the selected late layers of the base model trainable\n",
        "for layer in model.layers[:127]:\n",
        "   layer.trainable = False\n",
        "for layer in model.layers[127:]:\n",
        "   layer.trainable = True\n",
        "\n",
        "# we need to recompile the model for these modifications to take effect\n",
        "\n"
      ],
      "execution_count": null,
      "outputs": []
    },
    {
      "cell_type": "markdown",
      "metadata": {
        "id": "AaNXNxX9iwC4",
        "colab_type": "text"
      },
      "source": [
        "Finetune with Adam algorithm and calculate performance metrics (10 points)"
      ]
    },
    {
      "cell_type": "code",
      "metadata": {
        "id": "RAJblmDD_doT",
        "colab_type": "code",
        "colab": {}
      },
      "source": [
        "from tensorflow.keras.optimizers import SGD\n",
        "model.compile(optimizer=\"Adam\", loss='categorical_crossentropy',metrics=['accuracy']) \n",
        "model.fit(training_generator, validation_data=validation_generator,epochs=5)\n",
        "prediction=model.predict(test_generator)\n",
        "y_pred_bool = np.argmax(prediction, axis=1)\n",
        "print(classification_report(y_true_bool, y_pred_bool))"
      ],
      "execution_count": null,
      "outputs": []
    },
    {
      "cell_type": "markdown",
      "metadata": {
        "id": "6b-u_DVujzJZ",
        "colab_type": "text"
      },
      "source": [
        "Finetune with SGD algorithm with alearning rate of 0.0001 and a momentum of 0.7 and calculate performance metrics (10 points)"
      ]
    },
    {
      "cell_type": "code",
      "metadata": {
        "id": "ps2uXiM6xnHx",
        "colab_type": "code",
        "colab": {}
      },
      "source": [
        "loaded_model_1 = tf.keras.models.load_model('/content/drive/My Drive/Colab Notebooks/HandGestures/model')\n",
        "# make the selected late layers of the base model trainable\n",
        "for layer in loaded_model_1.layers[:127]:\n",
        "   layer.trainable = False\n",
        "for layer in loaded_model_1.layers[127:]:\n",
        "   layer.trainable = True\n",
        "\n",
        "# we need to recompile the model for these modifications to take effect\n",
        "from tensorflow.keras.optimizers import SGD\n",
        "loaded_model_1.compile(optimizer=\"Adam\", loss='categorical_crossentropy',metrics=['accuracy']) #\n",
        "loaded_model_1.fit(training_generator, validation_data=validation_generator,epochs=5)\n",
        "prediction=loaded_model_1.predict(test_generator)\n",
        "y_pred_bool = np.argmax(prediction, axis=1)\n",
        "print(classification_report(y_true_bool, y_pred_bool))\n"
      ],
      "execution_count": null,
      "outputs": []
    },
    {
      "cell_type": "markdown",
      "metadata": {
        "id": "49--k11Jj8-n",
        "colab_type": "text"
      },
      "source": [
        "Finetune with SGD algorithm with alearning rate of 0.0001 and a momentum of 0.9 and calculate performance metrics (10 points)"
      ]
    },
    {
      "cell_type": "code",
      "metadata": {
        "id": "nRzlH-aelmka",
        "colab_type": "code",
        "colab": {}
      },
      "source": [
        "loaded_model_2 = tf.keras.models.load_model('/content/drive/My Drive/Colab Notebooks/HandGestures/model')\n",
        "# make the selected late layers of the base model trainable\n",
        "for layer in loaded_model_2.layers[:127]:\n",
        "   layer.trainable = False\n",
        "for layer in loaded_model_2.layers[127:]:\n",
        "   layer.trainable = True\n",
        "\n",
        "# we need to recompile the model for these modifications to take effect\n",
        "from tensorflow.keras.optimizers import SGD\n",
        "loaded_model_2.compile(optimizer=\"Adam\", loss='categorical_crossentropy',metrics=['accuracy']) #\n",
        "loaded_model_2.fit(training_generator, validation_data=validation_generator,epochs=5)\n",
        "prediction=loaded_model_2.predict(test_generator)\n",
        "y_pred_bool = np.argmax(prediction, axis=1)\n",
        "print(classification_report(y_true_bool, y_pred_bool))"
      ],
      "execution_count": null,
      "outputs": []
    },
    {
      "cell_type": "markdown",
      "metadata": {
        "id": "nQMLafaDj-s7",
        "colab_type": "text"
      },
      "source": [
        "Finetune with SGD algorithm with alearning rate of 0.0001 and a momentum of 0.98 and calculate performance metrics (10 points)"
      ]
    },
    {
      "cell_type": "code",
      "metadata": {
        "id": "B2hBodnxFtJH",
        "colab_type": "code",
        "colab": {}
      },
      "source": [
        "loaded_model_3 = tf.keras.models.load_model('/content/drive/My Drive/Colab Notebooks/HandGestures/model')\n",
        "# make the selected late layers of the base model trainable\n",
        "for layer in loaded_model_3.layers[:127]:\n",
        "   layer.trainable = False\n",
        "for layer in loaded_model_3.layers[127:]:\n",
        "   layer.trainable = True\n",
        "\n",
        "# we need to recompile the model for these modifications to take effect\n",
        "from tensorflow.keras.optimizers import SGD\n",
        "loaded_model_3.compile(optimizer=\"Adam\", loss='categorical_crossentropy',metrics=['accuracy']) \n",
        "loaded_model_3.fit(training_generator, validation_data=validation_generator,epochs=5)\n",
        "prediction=loaded_model_3.predict(test_generator)\n",
        "y_pred_bool = np.argmax(prediction, axis=1)\n",
        "print(classification_report(y_true_bool, y_pred_bool))"
      ],
      "execution_count": null,
      "outputs": []
    },
    {
      "cell_type": "markdown",
      "metadata": {
        "id": "Oy15kdFtl1sG",
        "colab_type": "text"
      },
      "source": [
        "Compare performance of the finetuned models (10 points)\n",
        "\n",
        "\n",
        "\n",
        "The best performance was obtained when the model was finetuned with **Adam algorithm**\n"
      ]
    }
  ]
}